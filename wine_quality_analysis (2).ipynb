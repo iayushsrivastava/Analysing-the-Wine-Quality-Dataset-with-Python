{
 "cells": [
  {
   "cell_type": "code",
   "execution_count": null,
   "id": "6907d9a7",
   "metadata": {},
   "outputs": [],
   "source": [
    "\n",
    "import pandas as pd\n",
    "import matplotlib.pyplot as plt\n",
    "import seaborn as sns\n",
    "from docx import Document\n",
    "from docx.shared import Inches"
   ]
  },
  {
   "cell_type": "markdown",
   "id": "4f5a292f",
   "metadata": {},
   "source": [
    "# Wine Quality Analysis"
   ]
  },
  {
   "cell_type": "markdown",
   "id": "c21773f3",
   "metadata": {},
   "source": [
    "## 1. Load the dataset"
   ]
  },
  {
   "cell_type": "code",
   "execution_count": null,
   "id": "029db576",
   "metadata": {},
   "outputs": [],
   "source": [
    "import urllib\n",
    "\n",
    "url = 'https://archive.ics.uci.edu/static/public/186/data.csv'\n",
    "urllib.request.urlretrieve(url, 'winequality.csv')\n",
    "\n",
    "# Load the dataset\n",
    "wine_data = pd.read_csv('winequality.csv', delimiter=\";\")\n",
    "wine_data.head()"
   ]
  },
  {
   "cell_type": "markdown",
   "id": "4b044877",
   "metadata": {},
   "source": [
    "## 2. Data Cleaning and Preparation"
   ]
  },
  {
   "cell_type": "code",
   "execution_count": null,
   "id": "d049f9ee",
   "metadata": {},
   "outputs": [],
   "source": [
    "\n",
    "# Check for missing values in the dataset\n",
    "missing_values = wine_data.isnull().sum()\n",
    "missing_values\n"
   ]
  },
  {
   "cell_type": "markdown",
   "id": "645b6d14",
   "metadata": {},
   "source": [
    "## 3. Data Exploration"
   ]
  },
  {
   "cell_type": "code",
   "execution_count": null,
   "id": "040ff309",
   "metadata": {},
   "outputs": [],
   "source": [
    "\n",
    "# Set the style for seaborn\n",
    "sns.set_style(\"whitegrid\")\n",
    "\n",
    "# Plot the distribution of wine quality scores\n",
    "plt.figure(figsize=(10, 6))\n",
    "sns.countplot(x='quality', data=wine_data)\n",
    "plt.title(\"Distribution of Wine Quality Scores\")\n",
    "plt.xlabel(\"Wine Quality\")\n",
    "plt.ylabel(\"Number of Samples\")\n",
    "plt.show()\n"
   ]
  },
  {
   "cell_type": "markdown",
   "id": "70cdea04",
   "metadata": {},
   "source": [
    "## 4. Feature Analysis"
   ]
  },
  {
   "cell_type": "code",
   "execution_count": null,
   "id": "2bdb57b8",
   "metadata": {},
   "outputs": [],
   "source": [
    "\n",
    "# Plotting boxplots for each feature against wine quality\n",
    "features = wine_data.columns[:-1]  # Excluding 'quality' from the features\n",
    "\n",
    "plt.figure(figsize=(20, 15))\n",
    "for i, feature in enumerate(features, 1):\n",
    "    plt.subplot(3, 4, i)\n",
    "    sns.boxplot(x='quality', y=feature, data=wine_data)\n",
    "    plt.title(f\"Distribution of {feature} by Wine Quality\")\n",
    "    plt.xlabel(\"Wine Quality\")\n",
    "    plt.ylabel(feature)\n",
    "    plt.tight_layout()\n",
    "\n",
    "plt.show()\n"
   ]
  },
  {
   "cell_type": "markdown",
   "id": "eb14e0d7",
   "metadata": {},
   "source": [
    "## 5. Correlation Analysis"
   ]
  },
  {
   "cell_type": "code",
   "execution_count": null,
   "id": "75b8f5c0",
   "metadata": {},
   "outputs": [],
   "source": [
    "\n",
    "# Compute the correlation matrix\n",
    "correlation_matrix = wine_data.corr()\n",
    "\n",
    "# Extract the correlation values with the 'quality' column\n",
    "quality_correlation = correlation_matrix[\"quality\"].sort_values(ascending=False)\n",
    "\n",
    "quality_correlation\n"
   ]
  }
 ],
 "metadata": {
  "language_info": {
   "name": "python"
  }
 },
 "nbformat": 4,
 "nbformat_minor": 5
}
